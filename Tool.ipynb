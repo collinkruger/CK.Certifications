{
 "cells": [
  {
   "cell_type": "markdown",
   "metadata": {
    "dotnet_interactive": {
     "language": "fsharp"
    },
    "vscode": {
     "languageId": "dotnet-interactive.fsharp"
    }
   },
   "source": [
    "# Exam Learning Path - Creation Tool"
   ]
  },
  {
   "cell_type": "markdown",
   "metadata": {},
   "source": [
    "## Imports"
   ]
  },
  {
   "cell_type": "code",
   "execution_count": null,
   "metadata": {
    "dotnet_interactive": {
     "language": "fsharp"
    },
    "vscode": {
     "languageId": "dotnet-interactive.fsharp"
    }
   },
   "outputs": [
    {
     "data": {
      "text/html": [
       "<div><div></div><div></div><div><strong>Installed Packages</strong><ul><li><span>FSharp.Data, 5.0.2</span></li></ul></div></div>"
      ]
     },
     "metadata": {},
     "output_type": "display_data"
    }
   ],
   "source": [
    "// Hard Coding Versions For Consistency\n",
    "#r \"nuget: FSharp.Data, 5.0.2\""
   ]
  },
  {
   "cell_type": "code",
   "execution_count": null,
   "metadata": {
    "dotnet_interactive": {
     "language": "fsharp"
    },
    "vscode": {
     "languageId": "dotnet-interactive.fsharp"
    }
   },
   "outputs": [],
   "source": [
    "open System.Linq\n",
    "open FSharp.Data"
   ]
  },
  {
   "cell_type": "markdown",
   "metadata": {
    "dotnet_interactive": {
     "language": "fsharp"
    }
   },
   "source": [
    "## Domain"
   ]
  },
  {
   "cell_type": "code",
   "execution_count": null,
   "metadata": {
    "dotnet_interactive": {
     "language": "fsharp"
    },
    "vscode": {
     "languageId": "dotnet-interactive.fsharp"
    }
   },
   "outputs": [],
   "source": [
    "type Exam = {\n",
    "    Title: string\n",
    "    DisplayName: string\n",
    "    Link: string\n",
    "    // State: ExamState\n",
    "    LearningPaths: LearningPath list\n",
    "}\n",
    "\n",
    "and ExamState =\n",
    "    | Current\n",
    "    | Retired of string // Message\n",
    "\n",
    "and LearningPath =\n",
    "    { Title: string\n",
    "      Link: string\n",
    "      Duration: TimeSpan\n",
    "      Modules: Module list }\n",
    "      static member Default =\n",
    "          { Title = \"Missing\"\n",
    "            Link = \"Missing\"\n",
    "            Duration = TimeSpan.FromSeconds(0)\n",
    "            Modules = [] }\n",
    "\n",
    "and Module =\n",
    "    { Title: string\n",
    "      Link: string\n",
    "      Duration: TimeSpan }\n",
    "      static member Default =\n",
    "          { Title = \"Missing\"\n",
    "            Link = \"Missing\"\n",
    "            Duration = TimeSpan.FromSeconds(0) }"
   ]
  },
  {
   "cell_type": "markdown",
   "metadata": {
    "dotnet_interactive": {
     "language": "fsharp"
    }
   },
   "source": [
    "## Helpers"
   ]
  },
  {
   "cell_type": "code",
   "execution_count": null,
   "metadata": {
    "dotnet_interactive": {
     "language": "fsharp"
    },
    "vscode": {
     "languageId": "dotnet-interactive.fsharp"
    }
   },
   "outputs": [],
   "source": [
    "let toAbsoluteURL (pageURL: string) (urlToUpdate: string) : string =\n",
    "    let pageURI = Uri(pageURL)\n",
    "    match Uri.TryCreate(pageURI, urlToUpdate) with\n",
    "    | true, uri -> uri.ToString()\n",
    "    | false, _  -> failwith $\"urlToUpdate value is in an unexpected format. urlToUpdate = {urlToUpdate}\""
   ]
  },
  {
   "cell_type": "markdown",
   "metadata": {},
   "source": [
    "### JSON"
   ]
  },
  {
   "cell_type": "code",
   "execution_count": null,
   "metadata": {
    "dotnet_interactive": {
     "language": "fsharp"
    },
    "vscode": {
     "languageId": "dotnet-interactive.fsharp"
    }
   },
   "outputs": [],
   "source": [
    "module WebAPI =\n",
    "    let [<Literal>] private ROOT_SEARCH_URL = \"https://docs.microsoft.com/api/contentbrowser/search/certifications?locale=en-us&$orderBy=title&$top=30\"\n",
    "    let [<Literal>] private ROOT_EXAM_URL = \"https://docs.microsoft.com/api/lists/studyguide/exam/exam.mb-340?locale=en-us\"\n",
    "    let [<Literal>] private ROOT_LEARNINGPATH_URL = \"https://docs.microsoft.com/api/hierarchy/paths/learn.wwl.examine-core-capabilities-of-microsoft-dynamics-365-crm?locale=en-us\"\n",
    "    let [<Literal>] private ROOT_MODULE_URL = \"https://docs.microsoft.com/api/hierarchy/paths/learn-dynamics.get-started-dynamics-365-commerce?locale=en-us\"\n",
    "\n",
    "    type SearchWebAPI = JsonProvider<ROOT_SEARCH_URL>\n",
    "    type ExamWebAPI = JsonProvider<ROOT_EXAM_URL>\n",
    "    type LearningPathWebAPI = JsonProvider<ROOT_LEARNINGPATH_URL>\n",
    "    type ModuleWebAPI = JsonProvider<ROOT_MODULE_URL>\n",
    "\n",
    "\n",
    "    let getSearchData () : SearchWebAPI.Result list =\n",
    "        let staging = System.Collections.Generic.List<SearchWebAPI.Result>()\n",
    "        \n",
    "        let mutable url = ROOT_SEARCH_URL\n",
    "        while not (String.IsNullOrWhiteSpace(url)) do\n",
    "            url <- toAbsoluteURL ROOT_SEARCH_URL url\n",
    "\n",
    "            let res = SearchWebAPI.AsyncLoad(url) |> Async.RunSynchronously\n",
    "            staging.AddRange(res.Results)\n",
    "            url <- res.NextLink\n",
    "\n",
    "        staging.DistinctBy(fun x -> x.Uid)\n",
    "        |> List.ofSeq\n",
    "\n",
    "    let getExamData (examUid: string) : ExamWebAPI.Root =\n",
    "        let url = ROOT_EXAM_URL.Replace(\"exam.mb-340\", examUid)\n",
    "        ExamWebAPI.AsyncLoad(url) |> Async.RunSynchronously\n",
    "\n",
    "    let getLearningPathData (learningPathId: string) : LearningPathWebAPI.Root =\n",
    "        let url = ROOT_LEARNINGPATH_URL.Replace(\"learn.wwl.examine-core-capabilities-of-microsoft-dynamics-365-crm\", learningPathId)\n",
    "        LearningPathWebAPI.AsyncLoad(url) |> Async.RunSynchronously\n",
    "\n",
    "    let getModuleData (moduleId: string) : ModuleWebAPI.Root =\n",
    "        let url = ROOT_LEARNINGPATH_URL.Replace(\"learn-dynamics.get-started-dynamics-365-commerce\", moduleId)\n",
    "        ModuleWebAPI.AsyncLoad(url) |> Async.RunSynchronously\n"
   ]
  },
  {
   "cell_type": "markdown",
   "metadata": {},
   "source": [
    "## Crawl\n",
    "\n",
    "Entry Point -> Domain Objects"
   ]
  },
  {
   "cell_type": "code",
   "execution_count": null,
   "metadata": {
    "dotnet_interactive": {
     "language": "fsharp"
    },
    "vscode": {
     "languageId": "dotnet-interactive.fsharp"
    }
   },
   "outputs": [],
   "source": [
    "module Crawl =\n",
    "    open System.Net\n",
    "\n",
    "    let [<Literal>] ROOT_URL = \"https://docs.microsoft.com/en-us/\"\n",
    "\n",
    "    let private webAPI_getLearningPathData id =\n",
    "        try\n",
    "            WebAPI.getLearningPathData id\n",
    "            |> Some\n",
    "        with\n",
    "        | :? WebException -> None\n",
    "\n",
    "    let crawl () =\n",
    "        let searchData = WebAPI.getSearchData ()\n",
    "\n",
    "        let searchCertificationData = searchData.Where(fun x -> x.ResourceType = \"certification\")\n",
    "                                                .Select(fun x -> (x.Uid, x))\n",
    "                                                |> Map.ofSeq\n",
    "\n",
    "        let searchExamData = searchData.Where(fun x -> x.ResourceType = \"examination\")\n",
    "                                       .Select(fun x -> (x.Uid, x))\n",
    "                                       |> Map.ofSeq\n",
    "\n",
    "        let examData = searchExamData.Keys\n",
    "                                     .Select(fun uid -> (uid, WebAPI.getExamData uid))\n",
    "                                     |> Map.ofSeq\n",
    "\n",
    "        let examLearningPathData = examData.Values\n",
    "                                           .SelectMany(fun x -> x.Items |> Seq.ofArray)\n",
    "                                           .Select(fun x -> (x.Id, x))\n",
    "                                           |> Map.ofSeq\n",
    "\n",
    "        let learningPathData = examLearningPathData.Keys\n",
    "                                                   .Select(fun id -> (id, webAPI_getLearningPathData id))\n",
    "                                                   |> Map.ofSeq\n",
    "\n",
    "        let learningPathModuleData = learningPathData.Values\n",
    "                                                     .Where(Option.isSome)\n",
    "                                                     .Select(Option.get)\n",
    "                                                     .SelectMany(fun x -> x.Modules |> Seq.ofArray)\n",
    "                                                     .Select(fun x -> (x.Uid, x))\n",
    "                                                     |> Map.ofSeq\n",
    "\n",
    "        let toAbsoluteURL = toAbsoluteURL ROOT_URL\n",
    "\n",
    "        let modules = learningPathModuleData\n",
    "                      |> Map.map (fun id x -> { Title = x.Title\n",
    "                                                Link = toAbsoluteURL x.Url\n",
    "                                                Duration = TimeSpan.FromMinutes(x.DurationInMinutes) })\n",
    "\n",
    "        let learningPaths = learningPathData\n",
    "                            |> Map.map (fun uid x -> match x with\n",
    "                                                     | None -> LearningPath.Default\n",
    "                                                     | Some x -> { Title = x.Title\n",
    "                                                                   Link = toAbsoluteURL x.Url\n",
    "                                                                   Duration = TimeSpan.FromMinutes(x.DurationInMinutes)\n",
    "                                                                   Modules = x.Modules\n",
    "                                                                              .Select(fun x -> modules[x.Uid])\n",
    "                                                                              |> List.ofSeq })\n",
    "\n",
    "        let exams = searchExamData\n",
    "                    |> Map.map (fun uid x -> { Title = x.Title\n",
    "                                               DisplayName = x.ExamDisplayName\n",
    "                                               Link = toAbsoluteURL x.Url\n",
    "                                               LearningPaths = (examData[uid]).Items\n",
    "                                                                              .Select(fun x -> learningPaths[x.Id])\n",
    "                                                                              |> List.ofSeq })\n",
    "\n",
    "        exams.Values\n",
    "             |> List.ofSeq"
   ]
  },
  {
   "cell_type": "markdown",
   "metadata": {},
   "source": [
    "## Grouping\n",
    "\n",
    "Group modules into weeks at some sustainable level"
   ]
  },
  {
   "cell_type": "code",
   "execution_count": null,
   "metadata": {
    "dotnet_interactive": {
     "language": "fsharp"
    },
    "vscode": {
     "languageId": "dotnet-interactive.fsharp"
    }
   },
   "outputs": [],
   "source": [
    "module Grouping =\n",
    "\n",
    "    let min = TimeSpan.FromMinutes(60)\n",
    "    let max = TimeSpan.FromMinutes(90)\n",
    "\n",
    "    let groupModulesIntoWeeks (exam: Exam) =\n",
    "        let mutable dur = TimeSpan.FromSeconds(0)\n",
    "        let mutable week = 1\n",
    "\n",
    "        let flat = exam.LearningPaths\n",
    "                       .SelectMany(fun lp -> lp.Modules\n",
    "                                               .Select(fun m -> (lp, m)))\n",
    "\n",
    "        seq {\n",
    "            for (lp, m) in flat do\n",
    "                if ((m.Duration > max || dur.Add(m.Duration) > max) && dur <> TimeSpan.FromSeconds(0)) then\n",
    "                    dur <- TimeSpan.FromSeconds(0)\n",
    "                    week <- week + 1\n",
    "\n",
    "                dur <- dur.Add(m.Duration)\n",
    "\n",
    "                yield (lp, m, week)\n",
    "        }\n",
    "        |> List.ofSeq"
   ]
  },
  {
   "cell_type": "markdown",
   "metadata": {},
   "source": [
    "## File System"
   ]
  },
  {
   "cell_type": "code",
   "execution_count": null,
   "metadata": {
    "dotnet_interactive": {
     "language": "fsharp"
    },
    "vscode": {
     "languageId": "dotnet-interactive.fsharp"
    }
   },
   "outputs": [],
   "source": [
    "module FileSystem =\n",
    "\n",
    "    let initExamsDirectory () : unit =\n",
    "        if Directory.Exists(\"Exams\") then\n",
    "            Directory.Delete(\"Exams\", true)\n",
    "\n",
    "        System.Threading.Thread.Sleep(250)\n",
    "\n",
    "        Directory.CreateDirectory(\"Exams\") |> ignore\n",
    "\n",
    "    let examPath (exam: Exam) : string =\n",
    "        $\"Exams/{exam.DisplayName}.md\"\n",
    "\n",
    "    let readmePath = \"README.md\"\n",
    "\n",
    "    let readmeTemplatePath = \"README.md.template\""
   ]
  },
  {
   "cell_type": "markdown",
   "metadata": {},
   "source": [
    "## Markdown"
   ]
  },
  {
   "cell_type": "code",
   "execution_count": null,
   "metadata": {
    "dotnet_interactive": {
     "language": "fsharp"
    },
    "vscode": {
     "languageId": "dotnet-interactive.fsharp"
    }
   },
   "outputs": [],
   "source": [
    "module Markdown =\n",
    "\n",
    "    let h1 str = \"# \" + str\n",
    "    let boldStr str = \"**\" + str + \"**\"\n",
    "    let boldInt i   = \"**\" + (string i) + \"**\"\n",
    "    let url text url = \"[\" + text + \"](\" + url + \")\"\n",
    "    let pad str = \" \" + str + \" \"\n",
    "    let emptyCell = \" \"\n",
    "\n",
    "    let examFullName (exam: Exam) : string =\n",
    "        $\"{exam.DisplayName}: {exam.Title}\"\n",
    "\n",
    "    let exam (exam: Exam) : string =\n",
    "        let sb = StringBuilder()\n",
    "        \n",
    "        sb.AppendLine(h1 $\"{exam.DisplayName}: {exam.Title}\")\n",
    "          .AppendLine()\n",
    "          .AppendLine($\"**Exam/Learning Path:** {exam.Link}\")\n",
    "          .AppendLine()\n",
    "          |> ignore\n",
    "\n",
    "        sb.AppendLine(\"| **Learning Path** | **Module** | **Week** |\")\n",
    "          .AppendLine(\"|-|-|-|\")\n",
    "          |> ignore\n",
    "\n",
    "        let mutable previousLeaarningPathLink = null\n",
    "        for (lp, m, w) in Grouping.groupModulesIntoWeeks exam do\n",
    "            let lpCell = if lp.Link = previousLeaarningPathLink then\n",
    "                            emptyCell\n",
    "                         else\n",
    "                            previousLeaarningPathLink <- lp.Link\n",
    "                            boldStr (url lp.Title lp.Link)\n",
    "\n",
    "            let mCell = pad (url m.Title m.Link)\n",
    "\n",
    "            let wCell = pad (boldInt w)\n",
    "\n",
    "            sb.AppendLine($\"|{lpCell}|{mCell}|{wCell}\")\n",
    "              |> ignore\n",
    "\n",
    "        sb.ToString()\n",
    "\n",
    "    let examsLinks (exams: Exam list) : string =\n",
    "        let sb = StringBuilder()\n",
    "        \n",
    "        for exam in exams do\n",
    "            sb.Append(url (examFullName exam) (FileSystem.examPath exam))\n",
    "              .AppendLine(\"<br/>\")\n",
    "              |> ignore\n",
    "        \n",
    "        sb.ToString()\n",
    "\n",
    "    let readme (readmeTemplate: string, exams: Exam list) : string =\n",
    "        let examsLinksMarkdown = examsLinks exams\n",
    "        readmeTemplate.Replace(\"{{{Exam-Links}}}\", examsLinksMarkdown)"
   ]
  },
  {
   "cell_type": "markdown",
   "metadata": {},
   "source": [
    "## Do"
   ]
  },
  {
   "cell_type": "code",
   "execution_count": null,
   "metadata": {
    "dotnet_interactive": {
     "language": "fsharp"
    },
    "vscode": {
     "languageId": "dotnet-interactive.fsharp"
    }
   },
   "outputs": [],
   "source": [
    "let exams = Crawl.crawl()"
   ]
  },
  {
   "cell_type": "code",
   "execution_count": null,
   "metadata": {
    "dotnet_interactive": {
     "language": "fsharp"
    },
    "vscode": {
     "languageId": "dotnet-interactive.fsharp"
    }
   },
   "outputs": [],
   "source": [
    "do\n",
    "    FileSystem.initExamsDirectory ()\n",
    "\n",
    "    for exam in exams do\n",
    "        let path = FileSystem.examPath exam\n",
    "        let markdown = Markdown.exam exam\n",
    "        File.WriteAllText(path, markdown)\n",
    "\n",
    "    let readmeTemplate = File.ReadAllText(FileSystem.readmeTemplatePath)\n",
    "    let readme = Markdown.readme(readmeTemplate, exams)\n",
    "    File.WriteAllText(FileSystem.readmePath, readme)"
   ]
  }
 ],
 "metadata": {
  "kernelspec": {
   "display_name": ".NET (F#)",
   "language": "F#",
   "name": ".net-fsharp"
  },
  "language_info": {
   "name": "F#"
  }
 },
 "nbformat": 4,
 "nbformat_minor": 2
}
