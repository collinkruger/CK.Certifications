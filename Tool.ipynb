{
 "cells": [
  {
   "cell_type": "markdown",
   "metadata": {
    "dotnet_interactive": {
     "language": "fsharp"
    },
    "vscode": {
     "languageId": "dotnet-interactive.fsharp"
    }
   },
   "source": [
    "# Exam Learning Path - Creation Tool"
   ]
  },
  {
   "cell_type": "markdown",
   "metadata": {},
   "source": [
    "## Imports"
   ]
  },
  {
   "cell_type": "code",
   "execution_count": null,
   "metadata": {
    "dotnet_interactive": {
     "language": "fsharp"
    },
    "vscode": {
     "languageId": "dotnet-interactive.fsharp"
    }
   },
   "outputs": [],
   "source": [
    "// Hard Coding Versions For Consistency\n",
    "#r \"nuget: FSharp.Data, 5.0.2\""
   ]
  },
  {
   "cell_type": "code",
   "execution_count": null,
   "metadata": {
    "dotnet_interactive": {
     "language": "fsharp"
    },
    "vscode": {
     "languageId": "dotnet-interactive.fsharp"
    }
   },
   "outputs": [],
   "source": [
    "open System.Linq\n",
    "open FSharp.Data\n",
    "open System.Net.Http\n",
    "open System.Text.RegularExpressions"
   ]
  },
  {
   "cell_type": "markdown",
   "metadata": {
    "dotnet_interactive": {
     "language": "fsharp"
    }
   },
   "source": [
    "## Domain"
   ]
  },
  {
   "cell_type": "code",
   "execution_count": null,
   "metadata": {
    "dotnet_interactive": {
     "language": "fsharp"
    },
    "vscode": {
     "languageId": "dotnet-interactive.fsharp"
    }
   },
   "outputs": [],
   "source": [
    "type DisplayName = | DisplayName of string\n",
    "    with\n",
    "      override this.ToString() = this |> function DisplayName str -> str\n",
    "let DisplayName str =\n",
    "    if Regex.IsMatch(str, \"^[a-z0-9]{2,3}-[a-z0-9]{3}$\", RegexOptions.IgnoreCase) then\n",
    "        DisplayName (str.ToUpperInvariant())\n",
    "    else\n",
    "        failwith $\"A display name should follow a pattern like \\\"AB-123\\\", but was {str}\"\n",
    "\n",
    "type Exam = {\n",
    "    Title: string\n",
    "    DisplayName: DisplayName\n",
    "    Link: string\n",
    "    State: ExamState\n",
    "    LearningPaths: LearningPath list\n",
    "}\n",
    "\n",
    "and ExamState =\n",
    "    | Current\n",
    "    | Retired\n",
    "    | RetiredWithReplacement of Exam\n",
    "    | RetiredOn of DateOnly\n",
    "    | RetiredOnWithReplacments of DateOnly * Exam list\n",
    "\n",
    "and LearningPath =\n",
    "    { Title: string\n",
    "      Link: string\n",
    "      Duration: TimeSpan\n",
    "      Modules: Module list }\n",
    "      static member Default =\n",
    "          { Title = \"Missing\"\n",
    "            Link = \"Missing\"\n",
    "            Duration = TimeSpan.FromSeconds(0)\n",
    "            Modules = [] }\n",
    "\n",
    "and Module =\n",
    "    { Title: string\n",
    "      Link: string\n",
    "      Duration: TimeSpan }\n",
    "      static member Default =\n",
    "          { Title = \"Missing\"\n",
    "            Link = \"Missing\"\n",
    "            Duration = TimeSpan.FromSeconds(0) }"
   ]
  },
  {
   "cell_type": "markdown",
   "metadata": {
    "dotnet_interactive": {
     "language": "fsharp"
    }
   },
   "source": [
    "## Helpers"
   ]
  },
  {
   "cell_type": "code",
   "execution_count": null,
   "metadata": {
    "dotnet_interactive": {
     "language": "fsharp"
    },
    "vscode": {
     "languageId": "dotnet-interactive.fsharp"
    }
   },
   "outputs": [],
   "source": [
    "let toAbsoluteURL (pageURL: string) (urlToUpdate: string) : string =\n",
    "    let pageURI = Uri(pageURL)\n",
    "    match Uri.TryCreate(pageURI, urlToUpdate) with\n",
    "    | true, uri -> uri.ToString()\n",
    "    | false, _  -> failwith $\"urlToUpdate value is in an unexpected format. urlToUpdate = {urlToUpdate}\"\n",
    "\n",
    "let makeCacheable0 func =\n",
    "    let mutable cell = None\n",
    "    fun () -> match cell with\n",
    "                | Some value -> value\n",
    "                | None ->\n",
    "                    let value = func ()\n",
    "                    cell <- Some value\n",
    "                    value\n",
    "\n",
    "let makeCacheable1 func =\n",
    "    let mutable map = Map.empty\n",
    "    fun arg0 -> match map.TryGetValue(arg0) with\n",
    "                | true, value -> value\n",
    "                | false, _ ->\n",
    "                    let value = func arg0\n",
    "                    map <- map |> Map.add arg0 value\n",
    "                    value\n",
    "\n",
    "type DisplayStopWatch() =\n",
    "    let sw = System.Diagnostics.Stopwatch.StartNew()\n",
    "    let mutable current = None\n",
    "\n",
    "    let completed () : unit =\n",
    "        match current with\n",
    "        | None -> ()\n",
    "        | Some name -> $\"Completed {name} at {sw.Elapsed.ToString()}\".Display() |> ignore\n",
    "\n",
    "    member this.Start(name: string) : unit =\n",
    "        completed ()\n",
    "        current <- Some name\n",
    "        name.Display() |> ignore\n",
    "\n",
    "    interface IDisposable with\n",
    "        member this.Dispose() : unit =\n",
    "            completed ()\n",
    "            sw.Stop()"
   ]
  },
  {
   "cell_type": "markdown",
   "metadata": {},
   "source": [
    "### JSON"
   ]
  },
  {
   "cell_type": "code",
   "execution_count": null,
   "metadata": {
    "dotnet_interactive": {
     "language": "fsharp"
    },
    "vscode": {
     "languageId": "dotnet-interactive.fsharp"
    }
   },
   "outputs": [],
   "source": [
    "module WebAPI =\n",
    "    let [<Literal>] private ROOT_SEARCH_URL = \"https://docs.microsoft.com/api/contentbrowser/search/certifications?locale=en-us&$orderBy=title&$top=30\"\n",
    "    let [<Literal>] private ROOT_EXAM_URL = \"https://docs.microsoft.com/api/lists/studyguide/exam/exam.mb-340?locale=en-us\"\n",
    "    let [<Literal>] private ROOT_LEARNINGPATH_URL = \"https://docs.microsoft.com/api/hierarchy/paths/learn.wwl.examine-core-capabilities-of-microsoft-dynamics-365-crm?locale=en-us\"\n",
    "    let [<Literal>] private ROOT_MODULE_URL = \"https://docs.microsoft.com/api/hierarchy/paths/learn-dynamics.get-started-dynamics-365-commerce?locale=en-us\"\n",
    "\n",
    "    type SearchWebAPI = JsonProvider<ROOT_SEARCH_URL>\n",
    "    type ExamWebAPI = JsonProvider<ROOT_EXAM_URL>\n",
    "    type LearningPathWebAPI = JsonProvider<ROOT_LEARNINGPATH_URL>\n",
    "    type ModuleWebAPI = JsonProvider<ROOT_MODULE_URL>\n",
    "\n",
    "\n",
    "    let getSearchData () : SearchWebAPI.Result list =\n",
    "        let staging = System.Collections.Generic.List<SearchWebAPI.Result>()\n",
    "        \n",
    "        let mutable url = ROOT_SEARCH_URL\n",
    "        while not (String.IsNullOrWhiteSpace(url)) do\n",
    "            url <- toAbsoluteURL ROOT_SEARCH_URL url\n",
    "\n",
    "            let res = SearchWebAPI.AsyncLoad(url) |> Async.RunSynchronously\n",
    "            staging.AddRange(res.Results)\n",
    "            url <- res.NextLink\n",
    "\n",
    "        staging.DistinctBy(fun x -> x.Uid)\n",
    "        |> List.ofSeq\n",
    "\n",
    "    let getExamData (examUid: string) : ExamWebAPI.Root =\n",
    "        let url = ROOT_EXAM_URL.Replace(\"exam.mb-340\", examUid)\n",
    "        ExamWebAPI.AsyncLoad(url) |> Async.RunSynchronously\n",
    "\n",
    "    let getLearningPathData (learningPathId: string) : LearningPathWebAPI.Root =\n",
    "        let url = ROOT_LEARNINGPATH_URL.Replace(\"learn.wwl.examine-core-capabilities-of-microsoft-dynamics-365-crm\", learningPathId)\n",
    "        LearningPathWebAPI.AsyncLoad(url) |> Async.RunSynchronously\n",
    "\n",
    "    let getModuleData (moduleId: string) : ModuleWebAPI.Root =\n",
    "        let url = ROOT_LEARNINGPATH_URL.Replace(\"learn-dynamics.get-started-dynamics-365-commerce\", moduleId)\n",
    "        ModuleWebAPI.AsyncLoad(url) |> Async.RunSynchronously\n"
   ]
  },
  {
   "cell_type": "markdown",
   "metadata": {},
   "source": [
    "### HTML"
   ]
  },
  {
   "cell_type": "code",
   "execution_count": null,
   "metadata": {
    "dotnet_interactive": {
     "language": "fsharp"
    },
    "vscode": {
     "languageId": "dotnet-interactive.fsharp"
    }
   },
   "outputs": [],
   "source": [
    "module WebPage =\n",
    "    open System.Text.RegularExpressions\n",
    "\n",
    "    let [<Literal>] private WEBPAGE_URL_TEMPLATE = \"https://docs.microsoft.com/en-us/certifications/exams/{DisplayName}\"\n",
    "\n",
    "    type RetirementStatus =\n",
    "        | Current\n",
    "        | Retired\n",
    "        | RetiredWithReplacement of examDisplayName:DisplayName\n",
    "        | RetiredOn of DateOnly\n",
    "        | RetiredOnWithReplacements of DateOnly * examDisplayNames:DisplayName list\n",
    "\n",
    "    let getRetirementStatusFromHTML (html: string) : RetirementStatus =\n",
    "        // Ignore the word \"Error\"\n",
    "        // We're using the Result type for its monadic characteristics\n",
    "\n",
    "        let retired (html: string) =\n",
    "            if html.Contains(\"This exam has been retired. For currently available options, please refer to\", StringComparison.OrdinalIgnoreCase) \n",
    "               || html.Contains(\"THIS EXAM IS RETIRED. For currently available options, please refer to\", StringComparison.OrdinalIgnoreCase)\n",
    "               || html.Contains(\"This exam is retired. Please refer to\") then\n",
    "                Error Retired\n",
    "            else\n",
    "                Ok html\n",
    "\n",
    "        let replacement html =\n",
    "            let genMatch regexStr =\n",
    "                fun html ->\n",
    "                    match Regex.Match(html, regexStr).Groups[1].Value with\n",
    "                    | \"\" -> Ok html\n",
    "                    | str -> Error (RetiredWithReplacement (DisplayName str))\n",
    "\n",
    "            Ok html\n",
    "            |> Result.bind (genMatch \"THIS EXAM IS RETIRED\\. A replacement exam, (.{2:3}-.*?),\")\n",
    "            |> Result.bind (genMatch \"This exam is retired\\. A replacement exam, <a.*?>Exam (.*?):\")\n",
    "            |> Result.bind (genMatch \"THIS EXAM IS RETIRED\\. A replacement exam, (.*?), is available\")\n",
    "\n",
    "        let date html =\n",
    "            let genMatch regexStr =\n",
    "                fun html ->\n",
    "                    match Regex.Match(html, regexStr).Groups[1].Value with\n",
    "                    | \"\"  -> Ok html\n",
    "                    | str -> Error (RetiredOn (DateOnly.Parse(str)))\n",
    "\n",
    "            Ok html\n",
    "            |> Result.bind (genMatch \"This exam retired on ([a-zA-Z]+ [0-9]{1,2}, [0-9]{4})\")\n",
    "            |> Result.bind (genMatch \"THIS EXAM WAS RETIRED (.*?)\\. Note:\")\n",
    "\n",
    "        let dateAndReplacement html =\n",
    "            let genMatch regexStr =\n",
    "                fun html -> \n",
    "                    let groups = Regex.Match(html, regexStr).Groups\n",
    "                    match groups[1].Value, groups[2].Value with\n",
    "                    | \"\", \"\"  -> Ok html\n",
    "                    | dateStr, examStr -> Error (RetiredOnWithReplacements (DateOnly.Parse(dateStr), [DisplayName examStr]))\n",
    "\n",
    "            let genMatches regexStr =\n",
    "                fun html -> \n",
    "                    let groups = Regex.Match(html, regexStr).Groups\n",
    "                    match groups[1].Value, groups[2].Value, groups[3].Value with\n",
    "                    | \"\", \"\", \"\"  -> Ok html\n",
    "                    | dateStr, examStr1, examStr2 -> Error (RetiredOnWithReplacements (DateOnly.Parse(dateStr), [DisplayName examStr1; DisplayName examStr2]))\n",
    "\n",
    "            Ok html\n",
    "            |> Result.bind (genMatch \"THIS EXAM RETIRED ON (.*?)\\. A replacement exam, (.*?),\")\n",
    "            |> Result.bind (genMatch \"This exam retired on (.*?)\\. A replacement exam, (.*?), is available\\.\")\n",
    "            |> Result.bind (genMatch \"THIS EXAM RETIRED ON (.*?)\\. A new version of this exam, (.*?), is available\")\n",
    "            |> Result.bind (genMatch \"Starting on (.*?, [0-9]{4}), you only need to pass Exam (.*?) to earn\")\n",
    "            |> Result.bind (genMatches \"THIS EXAM RETIRED ON (.*?)\\. Two replacement exams, (.*?) and (.*?), are available\")\n",
    "\n",
    "\n",
    "        Ok html\n",
    "        |> Result.bind retired\n",
    "        |> Result.bind replacement\n",
    "        |> Result.bind date\n",
    "        |> Result.bind dateAndReplacement\n",
    "        |> function\n",
    "           | Error value -> value\n",
    "           | Ok _        -> Current\n",
    "\n",
    "    let getExamHtml (examDisplayName: DisplayName) : string =\n",
    "        let url = WEBPAGE_URL_TEMPLATE.Replace(\"{DisplayName}\", examDisplayName.ToString())\n",
    "        use http = new HttpClient()\n",
    "        http.GetStringAsync(url).Result\n",
    "\n",
    "    let getExamRetirementStatus (examDisplayName: DisplayName) : RetirementStatus =\n",
    "        getExamHtml examDisplayName\n",
    "        |> getRetirementStatusFromHTML\n",
    "                            "
   ]
  },
  {
   "cell_type": "markdown",
   "metadata": {},
   "source": [
    "## Crawl\n",
    "\n",
    "Entry Point -> Domain Objects"
   ]
  },
  {
   "cell_type": "code",
   "execution_count": null,
   "metadata": {
    "dotnet_interactive": {
     "language": "fsharp"
    },
    "vscode": {
     "languageId": "dotnet-interactive.fsharp"
    }
   },
   "outputs": [],
   "source": [
    "module CachedWebAPI =\n",
    "    let getSearchData       = makeCacheable0 (WebAPI.getSearchData)\n",
    "    let getExamData         = makeCacheable1 (WebAPI.getExamData)\n",
    "    let getLearningPathData = makeCacheable1 (WebAPI.getLearningPathData)\n",
    "    let getModuleData       = makeCacheable1 (WebAPI.getModuleData)\n",
    "\n",
    "module CachedWebPage =\n",
    "    let getExamHtml             = makeCacheable1 (WebPage.getExamHtml)\n",
    "    let getExamRetirementStatus = makeCacheable1 (WebPage.getExamRetirementStatus)\n",
    "\n",
    "// Alias the cached versions so we can iterate\n",
    "// on the Crawl module without hitting the network\n",
    "module WebAPI = CachedWebAPI\n",
    "module WebPage = CachedWebPage"
   ]
  },
  {
   "cell_type": "code",
   "execution_count": null,
   "metadata": {
    "dotnet_interactive": {
     "language": "fsharp"
    },
    "vscode": {
     "languageId": "dotnet-interactive.fsharp"
    }
   },
   "outputs": [],
   "source": [
    "module Crawl =\n",
    "    open System.Net\n",
    "\n",
    "    let [<Literal>] ROOT_URL = \"https://docs.microsoft.com/en-us/\"\n",
    "   \n",
    "    type TempExam = {\n",
    "        Title: string\n",
    "        DisplayName: DisplayName\n",
    "        Link: string\n",
    "        State: WebPage.RetirementStatus\n",
    "        LearningPaths: LearningPath list\n",
    "    }\n",
    "\n",
    "    module Convert =\n",
    "        open WebPage\n",
    "        open System.Collections.Generic\n",
    "\n",
    "        let toExam (tempExam: TempExam) (examState: ExamState) : Exam =\n",
    "            { Exam.Title = tempExam.Title\n",
    "              DisplayName = tempExam.DisplayName\n",
    "              Link = tempExam.Link\n",
    "              State = examState\n",
    "              LearningPaths = tempExam.LearningPaths }\n",
    "\n",
    "        let toExams (tempExams: TempExam list) : Exam list =\n",
    "            let exams = Dictionary<DisplayName, Exam>()\n",
    "            let queue = Queue(tempExams)\n",
    "\n",
    "            while queue.Count > 0 do\n",
    "                let tempExam = queue.Dequeue()\n",
    "\n",
    "                match tempExam.State with\n",
    "                | Current -> Some (ExamState.Current)\n",
    "                | Retired -> Some (ExamState.Retired)\n",
    "                | RetiredOn date -> Some (ExamState.RetiredOn date)\n",
    "            \n",
    "                | RetiredWithReplacement displayName ->\n",
    "                    if exams.ContainsKey(displayName) then\n",
    "                        Some (ExamState.RetiredWithReplacement (exams[displayName]))\n",
    "                    else\n",
    "                        None\n",
    "            \n",
    "                | RetiredOnWithReplacements (date, displayNames) ->\n",
    "                    if displayNames |> List.forall exams.ContainsKey then\n",
    "                        let exams = displayNames |> List.map (fun displayName -> exams[displayName])\n",
    "                        Some (ExamState.RetiredOnWithReplacments (date, exams))\n",
    "                    else\n",
    "                        None\n",
    "\n",
    "                |> function\n",
    "                   | None           -> queue.Enqueue(tempExam)\n",
    "                   | Some examState -> exams.Add(tempExam.DisplayName, (toExam tempExam examState))\n",
    "\n",
    "            exams.Values\n",
    "            |> Seq.sortBy (fun exam -> exam.DisplayName.ToString())\n",
    "            |> List.ofSeq\n",
    "\n",
    "    let private webAPI_getLearningPathData id =\n",
    "        try\n",
    "            WebAPI.getLearningPathData id\n",
    "            |> Some\n",
    "        with\n",
    "        | :? WebException -> None\n",
    "\n",
    "    let crawl () : Exam list =\n",
    "        use dsw = new DisplayStopWatch()\n",
    "        let start = dsw.Start\n",
    "\n",
    "        start \"searchData\"\n",
    "        let searchData = WebAPI.getSearchData ()\n",
    "\n",
    "        start \"searchCertificationData\"\n",
    "        let searchCertificationData = searchData.Where(fun x -> x.ResourceType = \"certification\")\n",
    "                                                .Select(fun x -> (x.Uid, x))\n",
    "                                                |> Map.ofSeq\n",
    "\n",
    "        start \"searchExamData\"\n",
    "        let searchExamData = searchData.Where(fun x -> x.ResourceType = \"examination\")\n",
    "                                       .Select(fun x -> (x.Uid, x))\n",
    "                                       |> Map.ofSeq\n",
    "\n",
    "        start \"examData\"\n",
    "        let examData = searchExamData.Keys\n",
    "                                     .Select(fun uid -> (uid, WebAPI.getExamData uid))\n",
    "                                     |> Map.ofSeq\n",
    "\n",
    "        start \"examLearningPathData\"\n",
    "        let examLearningPathData = examData.Values\n",
    "                                           .SelectMany(fun x -> x.Items |> Seq.ofArray)\n",
    "                                           .Select(fun x -> (x.Id, x))\n",
    "                                           |> Map.ofSeq\n",
    "\n",
    "        start \"learningPathData\"\n",
    "        let learningPathData = examLearningPathData.Keys\n",
    "                                                   .Select(fun id -> (id, webAPI_getLearningPathData id))\n",
    "                                                   |> Map.ofSeq\n",
    "\n",
    "        start \"learningPathModuleData\"\n",
    "        let learningPathModuleData = learningPathData.Values\n",
    "                                                     .Where(Option.isSome)\n",
    "                                                     .Select(Option.get)\n",
    "                                                     .SelectMany(fun x -> x.Modules |> Seq.ofArray)\n",
    "                                                     .Select(fun x -> (x.Uid, x))\n",
    "                                                     |> Map.ofSeq\n",
    "\n",
    "        let toAbsoluteURL = toAbsoluteURL ROOT_URL\n",
    "\n",
    "        start \"modules\"\n",
    "        let modules = learningPathModuleData\n",
    "                      |> Map.map (fun id x -> { Title = x.Title\n",
    "                                                Link = toAbsoluteURL x.Url\n",
    "                                                Duration = TimeSpan.FromMinutes(x.DurationInMinutes) })\n",
    "        start \"learningPaths\"\n",
    "        let learningPaths = learningPathData\n",
    "                            |> Map.map (fun uid x -> match x with\n",
    "                                                     | None -> LearningPath.Default\n",
    "                                                     | Some x -> { Title = x.Title\n",
    "                                                                   Link = toAbsoluteURL x.Url\n",
    "                                                                   Duration = TimeSpan.FromMinutes(x.DurationInMinutes)\n",
    "                                                                   Modules = x.Modules\n",
    "                                                                              .Select(fun x -> modules[x.Uid])\n",
    "                                                                              |> List.ofSeq })\n",
    "\n",
    "        start \"tempExams\"\n",
    "        let tempExams = searchExamData\n",
    "                        |> Map.map (fun uid x -> { Title = x.Title\n",
    "                                                   DisplayName = DisplayName x.ExamDisplayName\n",
    "                                                   Link = toAbsoluteURL x.Url\n",
    "                                                   State = WebPage.getExamRetirementStatus (DisplayName x.ExamDisplayName)\n",
    "                                                   LearningPaths = (examData[uid]).Items\n",
    "                                                                                  .Select(fun x -> learningPaths[x.Id])\n",
    "                                                                                  |> List.ofSeq })\n",
    "\n",
    "        start \"Convert.toExams\"\n",
    "        Convert.toExams (tempExams |> Map.values |> List.ofSeq)\n"
   ]
  },
  {
   "cell_type": "markdown",
   "metadata": {},
   "source": [
    "## Grouping\n",
    "\n",
    "Group modules into weeks at some sustainable level"
   ]
  },
  {
   "cell_type": "code",
   "execution_count": null,
   "metadata": {
    "dotnet_interactive": {
     "language": "fsharp"
    },
    "vscode": {
     "languageId": "dotnet-interactive.fsharp"
    }
   },
   "outputs": [],
   "source": [
    "module Grouping =\n",
    "\n",
    "    let min = TimeSpan.FromMinutes(60)\n",
    "    let max = TimeSpan.FromMinutes(90)\n",
    "\n",
    "    let groupModulesIntoWeeks (exam: Exam) =\n",
    "        let mutable dur = TimeSpan.FromSeconds(0)\n",
    "        let mutable week = 1\n",
    "\n",
    "        let flat = exam.LearningPaths\n",
    "                       .SelectMany(fun lp -> lp.Modules\n",
    "                                               .Select(fun m -> (lp, m)))\n",
    "\n",
    "        seq {\n",
    "            for (lp, m) in flat do\n",
    "                if ((m.Duration > max || dur.Add(m.Duration) > max) && dur <> TimeSpan.FromSeconds(0)) then\n",
    "                    dur <- TimeSpan.FromSeconds(0)\n",
    "                    week <- week + 1\n",
    "\n",
    "                dur <- dur.Add(m.Duration)\n",
    "\n",
    "                yield (lp, m, week)\n",
    "        }\n",
    "        |> List.ofSeq"
   ]
  },
  {
   "cell_type": "markdown",
   "metadata": {},
   "source": [
    "## File System"
   ]
  },
  {
   "cell_type": "code",
   "execution_count": null,
   "metadata": {
    "dotnet_interactive": {
     "language": "fsharp"
    },
    "vscode": {
     "languageId": "dotnet-interactive.fsharp"
    }
   },
   "outputs": [],
   "source": [
    "module FileSystem =\n",
    "    \n",
    "    let readmePath = \"README.md\"\n",
    "\n",
    "    let readmeTemplatePath = \"README.md.template\"\n",
    "\n",
    "    let examsPath = \"Exams\"\n",
    "\n",
    "    let examPath (exam: Exam) : string =\n",
    "        $\"Exams/{exam.DisplayName}.md\"\n",
    "\n",
    "    let init () : unit =\n",
    "        if File.Exists(readmePath) then\n",
    "            File.Delete(readmePath)\n",
    "\n",
    "        if Directory.Exists(examsPath) then\n",
    "            Directory.Delete(examsPath, true)\n",
    "\n",
    "        System.Threading.Thread.Sleep(250)\n",
    "\n",
    "        Directory.CreateDirectory(examsPath) |> ignore\n"
   ]
  },
  {
   "cell_type": "markdown",
   "metadata": {},
   "source": [
    "## Markdown"
   ]
  },
  {
   "cell_type": "code",
   "execution_count": null,
   "metadata": {
    "dotnet_interactive": {
     "language": "fsharp"
    },
    "vscode": {
     "languageId": "dotnet-interactive.fsharp"
    }
   },
   "outputs": [],
   "source": [
    "module Markdown =\n",
    "\n",
    "    let h1 str = \"# \" + str\n",
    "    let boldStr str = \"**\" + str + \"**\"\n",
    "    let boldInt i   = \"**\" + (string i) + \"**\"\n",
    "    let url text url = \"[\" + text + \"](\" + url + \")\"\n",
    "    let pad str = \" \" + str + \" \"\n",
    "    let emptyCell = \" \"\n",
    "\n",
    "    let examFullName (exam: Exam) : string =\n",
    "        $\"{exam.DisplayName}: {exam.Title}\"\n",
    "\n",
    "    let exam (exam: Exam) : string =\n",
    "        let sb = StringBuilder()\n",
    "        \n",
    "        sb.AppendLine(h1 (examFullName exam))\n",
    "          .AppendLine()\n",
    "          .AppendLine($\"**Exam/Learning Path:** {exam.Link}\")\n",
    "          .AppendLine()\n",
    "          |> ignore\n",
    "\n",
    "        sb.AppendLine(\"| **Learning Path** | **Module** | **Week** |\")\n",
    "          .AppendLine(\"|-|-|-|\")\n",
    "          |> ignore\n",
    "\n",
    "        let mutable previousLeaarningPathLink = null\n",
    "        for (lp, m, w) in Grouping.groupModulesIntoWeeks exam do\n",
    "            let lpCell = if lp.Link = previousLeaarningPathLink then\n",
    "                            emptyCell\n",
    "                         else\n",
    "                            previousLeaarningPathLink <- lp.Link\n",
    "                            boldStr (url lp.Title lp.Link)\n",
    "\n",
    "            let mCell = pad (url m.Title m.Link)\n",
    "\n",
    "            let wCell = pad (boldInt w)\n",
    "\n",
    "            sb.AppendLine($\"|{lpCell}|{mCell}|{wCell}\")\n",
    "              |> ignore\n",
    "\n",
    "        sb.ToString()\n",
    "\n",
    "    let examsLinks (exams: Exam list) : string =\n",
    "        let sb = StringBuilder()\n",
    "        \n",
    "        for exam in exams do\n",
    "            sb.Append(url (examFullName exam) (FileSystem.examPath exam))\n",
    "              .AppendLine(\"<br/>\")\n",
    "              |> ignore\n",
    "        \n",
    "        sb.ToString()\n",
    "\n",
    "    let readme (readmeTemplate: string, exams: Exam list) : string =\n",
    "        let currentExams, retiredExams = exams |> List.partition (fun e -> e.State = ExamState.Current)\n",
    "        readmeTemplate.Replace(\"{{{Current-Exam-Links}}}\", examsLinks currentExams)\n",
    "                      .Replace(\"{{{Retired-Exam-Links}}}\", examsLinks retiredExams)"
   ]
  },
  {
   "cell_type": "markdown",
   "metadata": {},
   "source": [
    "## Do"
   ]
  },
  {
   "cell_type": "code",
   "execution_count": null,
   "metadata": {
    "dotnet_interactive": {
     "language": "fsharp"
    },
    "vscode": {
     "languageId": "dotnet-interactive.fsharp"
    }
   },
   "outputs": [],
   "source": [
    "let exams = Crawl.crawl()"
   ]
  },
  {
   "cell_type": "code",
   "execution_count": null,
   "metadata": {
    "dotnet_interactive": {
     "language": "fsharp"
    },
    "vscode": {
     "languageId": "dotnet-interactive.fsharp"
    }
   },
   "outputs": [],
   "source": [
    "FileSystem.initExamsDirectory ()\n",
    "\n",
    "for exam in exams do\n",
    "    let path = FileSystem.examPath exam\n",
    "    let markdown = Markdown.exam exam\n",
    "    File.WriteAllText(path, markdown)\n",
    "\n",
    "let readmeTemplate = File.ReadAllText(FileSystem.readmeTemplatePath)\n",
    "let readme = Markdown.readme(readmeTemplate, exams)\n",
    "File.WriteAllText(FileSystem.readmePath, readme)"
   ]
  }
 ],
 "metadata": {
  "kernelspec": {
   "display_name": ".NET (F#)",
   "language": "F#",
   "name": ".net-fsharp"
  },
  "language_info": {
   "name": "F#"
  }
 },
 "nbformat": 4,
 "nbformat_minor": 2
}
